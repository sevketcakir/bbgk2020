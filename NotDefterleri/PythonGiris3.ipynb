{
 "cells": [
  {
   "cell_type": "markdown",
   "metadata": {},
   "source": [
    "# Liste Üreteçleri"
   ]
  },
  {
   "cell_type": "code",
   "execution_count": 1,
   "metadata": {},
   "outputs": [
    {
     "name": "stdout",
     "output_type": "stream",
     "text": [
      "[0, 1, 4, 9, 16, 25, 36, 49, 64, 81]\n"
     ]
    }
   ],
   "source": [
    "# [ifade(i) for i in eski_liste if filtre(i)]\n",
    "# Liste oluşturmak için 1. yol\n",
    "kareler = []\n",
    "for i in range(10):\n",
    "    kareler.append(i*i)\n",
    "print(kareler)"
   ]
  },
  {
   "cell_type": "code",
   "execution_count": 2,
   "metadata": {},
   "outputs": [
    {
     "name": "stdout",
     "output_type": "stream",
     "text": [
      "[0, 1, 4, 9, 16, 25, 36, 49, 64, 81]\n"
     ]
    }
   ],
   "source": [
    "# 2. yol\n",
    "kareler = list(map(lambda x: x*x,range(10)))\n",
    "print(kareler)"
   ]
  },
  {
   "cell_type": "code",
   "execution_count": 3,
   "metadata": {},
   "outputs": [
    {
     "name": "stdout",
     "output_type": "stream",
     "text": [
      "[0, 1, 4, 9, 16, 25, 36, 49, 64, 81]\n"
     ]
    }
   ],
   "source": [
    "kareler = [x**2 for x in range(10)]\n",
    "print(kareler)"
   ]
  },
  {
   "cell_type": "code",
   "execution_count": 5,
   "metadata": {},
   "outputs": [
    {
     "name": "stdout",
     "output_type": "stream",
     "text": [
      "[2, 4, 8]\n"
     ]
    }
   ],
   "source": [
    "print([a for a in [-8,-4,-2,0,2,4,8] if a>0])"
   ]
  },
  {
   "cell_type": "code",
   "execution_count": 6,
   "metadata": {},
   "outputs": [
    {
     "name": "stdout",
     "output_type": "stream",
     "text": [
      "[1, 2, 3, 4, 5, 6, 7, 8, 9]\n"
     ]
    }
   ],
   "source": [
    "vec = [[1,2,3],[4,5,6],[7,8,9]]\n",
    "print([num for elem in vec for num in elem])"
   ]
  },
  {
   "cell_type": "code",
   "execution_count": 11,
   "metadata": {},
   "outputs": [
    {
     "name": "stdout",
     "output_type": "stream",
     "text": [
      "[2, 3, 5, 7, 11, 13, 17, 19, 23, 29, 31, 37, 41, 43, 47, 53, 59, 61, 67, 71, 73, 79, 83, 89, 97]\n"
     ]
    }
   ],
   "source": [
    "# 100'den küçük asal sayılar\n",
    "asal = [p for p in range(2,100) if all(p%y!=0 for y in range(2,p))]\n",
    "print(asal)"
   ]
  },
  {
   "cell_type": "code",
   "execution_count": 10,
   "metadata": {},
   "outputs": [
    {
     "data": {
      "text/plain": [
       "True"
      ]
     },
     "execution_count": 10,
     "metadata": {},
     "output_type": "execute_result"
    }
   ],
   "source": [
    "all((True,True,True))"
   ]
  },
  {
   "cell_type": "code",
   "execution_count": 13,
   "metadata": {},
   "outputs": [
    {
     "name": "stdout",
     "output_type": "stream",
     "text": [
      "[(0, \"2'nin katı\"), (1, \"2'nin katı değil\"), (2, \"2'nin katı\"), (3, \"2'nin katı değil\"), (4, \"2'nin katı\"), (5, \"2'nin katı değil\"), (6, \"2'nin katı\"), (7, \"2'nin katı değil\"), (8, \"2'nin katı\"), (9, \"2'nin katı değil\"), (10, \"2'nin katı\"), (11, \"2'nin katı değil\"), (12, \"2'nin katı\"), (13, \"2'nin katı değil\"), (14, \"2'nin katı\"), (15, \"2'nin katı değil\"), (16, \"2'nin katı\"), (17, \"2'nin katı değil\"), (18, \"2'nin katı\"), (19, \"2'nin katı değil\")]\n"
     ]
    }
   ],
   "source": [
    "#liste içinde tuple üretme\n",
    "print([(x, \"2'nin katı\" if x%2==0 else \"2'nin katı değil\") for x in range(20)])"
   ]
  },
  {
   "cell_type": "code",
   "execution_count": 16,
   "metadata": {},
   "outputs": [
    {
     "name": "stdout",
     "output_type": "stream",
     "text": [
      "<generator object <genexpr> at 0x109aef4d0>\n",
      "[0, 2, 4, 6, 8, 10, 12, 14, 16, 18, 20, 22, 24, 26, 28, 30, 32, 34, 36, 38]\n"
     ]
    }
   ],
   "source": [
    "t=(x*2 for x in range(20))\n",
    "print(t)\n",
    "print(list(t))"
   ]
  },
  {
   "cell_type": "markdown",
   "metadata": {},
   "source": [
    "# Fonksiyonlar"
   ]
  },
  {
   "cell_type": "code",
   "execution_count": 17,
   "metadata": {},
   "outputs": [],
   "source": [
    "def fib(n):\n",
    "    a, b = 0, 1\n",
    "    while a < n:\n",
    "        print(a)\n",
    "        a, b = b, a+b"
   ]
  },
  {
   "cell_type": "code",
   "execution_count": 18,
   "metadata": {},
   "outputs": [
    {
     "name": "stdout",
     "output_type": "stream",
     "text": [
      "0\n",
      "1\n",
      "1\n",
      "2\n",
      "3\n",
      "5\n",
      "8\n",
      "13\n",
      "21\n",
      "34\n",
      "55\n",
      "89\n"
     ]
    }
   ],
   "source": [
    "fib(100)"
   ]
  },
  {
   "cell_type": "code",
   "execution_count": 19,
   "metadata": {},
   "outputs": [],
   "source": [
    "def fonksiyon(sayi):\n",
    "    if sayi<1000:\n",
    "        return True, \"Sayı 1000'den küçük\"\n",
    "    else:\n",
    "        return False, \"Sayı 1000'den büyük\""
   ]
  },
  {
   "cell_type": "code",
   "execution_count": 21,
   "metadata": {},
   "outputs": [
    {
     "name": "stdout",
     "output_type": "stream",
     "text": [
      "True\n",
      "Sayı 1000'den küçük\n"
     ]
    }
   ],
   "source": [
    "sonuc, metin = fonksiyon(150)\n",
    "print(sonuc)\n",
    "print(metin)"
   ]
  },
  {
   "cell_type": "markdown",
   "metadata": {},
   "source": [
    "## Varsayılan Argüman Değeleri"
   ]
  },
  {
   "cell_type": "code",
   "execution_count": 27,
   "metadata": {},
   "outputs": [],
   "source": [
    "def fonk(a1, a2='merhaba', a3='dünya!'):\n",
    "    print(f\"a1: {a1} a2: {a2} a3: {a3}\")"
   ]
  },
  {
   "cell_type": "code",
   "execution_count": 28,
   "metadata": {},
   "outputs": [
    {
     "name": "stdout",
     "output_type": "stream",
     "text": [
      "a1: Python a2: merhaba a3: dünya!\n"
     ]
    }
   ],
   "source": [
    "fonk('Python')"
   ]
  },
  {
   "cell_type": "code",
   "execution_count": 29,
   "metadata": {},
   "outputs": [
    {
     "name": "stdout",
     "output_type": "stream",
     "text": [
      "a1: Python a2: hello a3: world\n"
     ]
    }
   ],
   "source": [
    "fonk('Python', 'hello', 'world')"
   ]
  },
  {
   "cell_type": "code",
   "execution_count": 30,
   "metadata": {},
   "outputs": [
    {
     "name": "stdout",
     "output_type": "stream",
     "text": [
      "a1: Python a2: merhaba a3: programlama!\n"
     ]
    }
   ],
   "source": [
    "fonk('Python', a3='programlama!')"
   ]
  },
  {
   "cell_type": "code",
   "execution_count": 31,
   "metadata": {},
   "outputs": [],
   "source": [
    "def fn(arg1, *args, **kwargs):\n",
    "    print(arg1)\n",
    "    for arg in args:\n",
    "        print(arg)\n",
    "    for k in kwargs:\n",
    "        print(f\"{k}:{kwargs[k]}\")"
   ]
  },
  {
   "cell_type": "code",
   "execution_count": 32,
   "metadata": {},
   "outputs": [
    {
     "name": "stdout",
     "output_type": "stream",
     "text": [
      "zorunlu\n"
     ]
    }
   ],
   "source": [
    "fn('zorunlu')"
   ]
  },
  {
   "cell_type": "code",
   "execution_count": 33,
   "metadata": {},
   "outputs": [
    {
     "name": "stdout",
     "output_type": "stream",
     "text": [
      "deneme\n",
      "1. parametre\n",
      "2.\n",
      "3.14\n",
      "yaz:Python\n",
      "anahtar:AE12FF\n"
     ]
    }
   ],
   "source": [
    "fn('deneme', '1. parametre', '2.', 3.14, yaz='Python', anahtar='AE12FF')"
   ]
  }
 ],
 "metadata": {
  "kernelspec": {
   "display_name": "Python 3",
   "language": "python",
   "name": "python3"
  },
  "language_info": {
   "codemirror_mode": {
    "name": "ipython",
    "version": 3
   },
   "file_extension": ".py",
   "mimetype": "text/x-python",
   "name": "python",
   "nbconvert_exporter": "python",
   "pygments_lexer": "ipython3",
   "version": "3.7.4"
  }
 },
 "nbformat": 4,
 "nbformat_minor": 4
}
