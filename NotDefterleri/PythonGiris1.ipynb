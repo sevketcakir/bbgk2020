{
 "cells": [
  {
   "cell_type": "code",
   "execution_count": 1,
   "metadata": {},
   "outputs": [],
   "source": [
    "x=5"
   ]
  },
  {
   "cell_type": "code",
   "execution_count": 2,
   "metadata": {},
   "outputs": [
    {
     "data": {
      "text/plain": [
       "5"
      ]
     },
     "execution_count": 2,
     "metadata": {},
     "output_type": "execute_result"
    }
   ],
   "source": [
    "x"
   ]
  },
  {
   "cell_type": "code",
   "execution_count": 3,
   "metadata": {},
   "outputs": [
    {
     "data": {
      "text/plain": [
       "'Bu çok\\nsatırlı \\nbir\\naçıklamadır.'"
      ]
     },
     "execution_count": 3,
     "metadata": {},
     "output_type": "execute_result"
    }
   ],
   "source": [
    "\"\"\"Bu çok\n",
    "satırlı \n",
    "bir\n",
    "açıklamadır.\"\"\""
   ]
  },
  {
   "cell_type": "code",
   "execution_count": 4,
   "metadata": {},
   "outputs": [
    {
     "name": "stdout",
     "output_type": "stream",
     "text": [
      "Bir sayı girin: 100\n",
      "2\n",
      "3\n",
      "5\n",
      "7\n",
      "11\n",
      "13\n",
      "17\n",
      "19\n",
      "23\n",
      "29\n",
      "31\n",
      "37\n",
      "41\n",
      "43\n",
      "47\n",
      "53\n",
      "59\n",
      "61\n",
      "67\n",
      "71\n",
      "73\n",
      "79\n",
      "83\n",
      "89\n",
      "97\n"
     ]
    }
   ],
   "source": [
    "sayi = int(input('Bir sayı girin: '))\n",
    "for i in range(2,sayi):\n",
    "    asal = True\n",
    "    for k in range(2, i):\n",
    "        if i % k == 0:\n",
    "            asal = False\n",
    "            break\n",
    "    if asal:\n",
    "        print(i)"
   ]
  },
  {
   "cell_type": "code",
   "execution_count": 5,
   "metadata": {},
   "outputs": [
    {
     "name": "stdout",
     "output_type": "stream",
     "text": [
      "Bir metin girin: Merhaba Python!\n",
      "M\n",
      "e\n",
      "r\n",
      "h\n",
      "a\n",
      "b\n",
      "a\n",
      " \n",
      "P\n",
      "y\n",
      "t\n",
      "h\n",
      "o\n",
      "n\n",
      "!\n"
     ]
    }
   ],
   "source": [
    "metin = input('Bir metin girin: ')\n",
    "for harf in metin:\n",
    "    print(harf)"
   ]
  },
  {
   "cell_type": "code",
   "execution_count": 6,
   "metadata": {},
   "outputs": [
    {
     "name": "stdout",
     "output_type": "stream",
     "text": [
      "Toplanacak sayıları girin(-1 çıkış):10\n",
      "Toplanacak sayıları girin(-1 çıkış):5\n",
      "Toplanacak sayıları girin(-1 çıkış):7\n",
      "Toplanacak sayıları girin(-1 çıkış):6\n",
      "Toplanacak sayıları girin(-1 çıkış):-3\n",
      "Toplanacak sayıları girin(-1 çıkış):-1\n",
      "Toplam: 25\n"
     ]
    }
   ],
   "source": [
    "sayi = int(input('Toplanacak sayıları girin(-1 çıkış):'))\n",
    "toplam = 0\n",
    "while sayi != -1:\n",
    "    toplam += sayi\n",
    "    sayi = int(input('Toplanacak sayıları girin(-1 çıkış):'))\n",
    "print(\"Toplam: \"+str(toplam))"
   ]
  },
  {
   "cell_type": "code",
   "execution_count": null,
   "metadata": {},
   "outputs": [],
   "source": []
  }
 ],
 "metadata": {
  "kernelspec": {
   "display_name": "Python 3",
   "language": "python",
   "name": "python3"
  },
  "language_info": {
   "codemirror_mode": {
    "name": "ipython",
    "version": 3
   },
   "file_extension": ".py",
   "mimetype": "text/x-python",
   "name": "python",
   "nbconvert_exporter": "python",
   "pygments_lexer": "ipython3",
   "version": "3.7.4"
  }
 },
 "nbformat": 4,
 "nbformat_minor": 4
}
