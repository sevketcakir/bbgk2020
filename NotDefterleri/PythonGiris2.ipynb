{
 "cells": [
  {
   "cell_type": "code",
   "execution_count": 1,
   "metadata": {},
   "outputs": [
    {
     "name": "stdout",
     "output_type": "stream",
     "text": [
      "merhaba\n",
      "dünya\n"
     ]
    }
   ],
   "source": [
    "print('merhaba')\n",
    "print(\"dünya\")"
   ]
  },
  {
   "cell_type": "code",
   "execution_count": null,
   "metadata": {},
   "outputs": [],
   "source": []
  },
  {
   "cell_type": "code",
   "execution_count": 2,
   "metadata": {},
   "outputs": [
    {
     "name": "stdout",
     "output_type": "stream",
     "text": [
      "Bana \"merhaba\" dedi\n",
      "Bana \"merhaba\" dedi\n"
     ]
    }
   ],
   "source": [
    "print('Bana \"merhaba\" dedi')\n",
    "print(\"Bana \\\"merhaba\\\" dedi\")"
   ]
  },
  {
   "cell_type": "code",
   "execution_count": 4,
   "metadata": {},
   "outputs": [
    {
     "name": "stdout",
     "output_type": "stream",
     "text": [
      "c:\\users\\pau\n"
     ]
    }
   ],
   "source": [
    "print(r\"c:\\users\\pau\")"
   ]
  },
  {
   "cell_type": "code",
   "execution_count": 5,
   "metadata": {},
   "outputs": [
    {
     "name": "stdout",
     "output_type": "stream",
     "text": [
      "Çok\n",
      "satırlı\n",
      "metin\n"
     ]
    }
   ],
   "source": [
    "print(\"Çok\\nsatırlı\\nmetin\")"
   ]
  },
  {
   "cell_type": "code",
   "execution_count": 6,
   "metadata": {},
   "outputs": [
    {
     "name": "stdout",
     "output_type": "stream",
     "text": [
      "Çok\n",
      "satırlı\n",
      "metin\n"
     ]
    }
   ],
   "source": [
    "print(\"\"\"Çok\n",
    "satırlı\n",
    "metin\"\"\")"
   ]
  },
  {
   "cell_type": "code",
   "execution_count": 7,
   "metadata": {},
   "outputs": [
    {
     "name": "stdout",
     "output_type": "stream",
     "text": [
      "abababcd\n"
     ]
    }
   ],
   "source": [
    "print(3*'ab'+'cd')"
   ]
  },
  {
   "cell_type": "code",
   "execution_count": 9,
   "metadata": {},
   "outputs": [
    {
     "name": "stdout",
     "output_type": "stream",
     "text": [
      "merhaba dünya\n"
     ]
    }
   ],
   "source": [
    "print('merhaba' ' dünya')"
   ]
  },
  {
   "cell_type": "code",
   "execution_count": 15,
   "metadata": {},
   "outputs": [
    {
     "name": "stdout",
     "output_type": "stream",
     "text": [
      "r\n",
      "haba\n",
      "a\n",
      "ba dünya!\n",
      "Merhaba dünya!\n"
     ]
    }
   ],
   "source": [
    "s=\"Merhaba dünya!\"\n",
    "print(s[2])\n",
    "print(s[3:7])\n",
    "print(s[-2])\n",
    "print(s[5:])\n",
    "print(s[:])"
   ]
  },
  {
   "cell_type": "code",
   "execution_count": 22,
   "metadata": {},
   "outputs": [
    {
     "name": "stdout",
     "output_type": "stream",
     "text": [
      "TÜRKÇE KARAKTER UYUŞMAZLIĞI\n",
      "türkçe karakter uyuşmazliği\n",
      "True\n",
      "Türkçe harf uyuşmazlığı\n",
      "['Türkçe', 'karakter', 'uyuşmazlığı']\n",
      "Türkçe- . -karakter- . -uyuşmazlığı\n"
     ]
    }
   ],
   "source": [
    "s='Türkçe karakter uyuşmazlığı'\n",
    "print(s.upper())\n",
    "print(s.upper().lower())\n",
    "print(s.startswith('Türkçe'))\n",
    "print(s.replace('karakter', 'harf'))\n",
    "l=s.split(' ')\n",
    "print(l)\n",
    "print('- . -'.join(l))"
   ]
  },
  {
   "cell_type": "markdown",
   "metadata": {},
   "source": [
    "# Listeler"
   ]
  },
  {
   "cell_type": "code",
   "execution_count": 24,
   "metadata": {},
   "outputs": [
    {
     "name": "stdout",
     "output_type": "stream",
     "text": [
      "['kırmızı', 'yeşil', 'mavi', 'sarı']\n"
     ]
    }
   ],
   "source": [
    "l = ['kırmızı', 'yeşil', 'mavi', 'sarı']\n",
    "print(l)"
   ]
  },
  {
   "cell_type": "code",
   "execution_count": 25,
   "metadata": {},
   "outputs": [
    {
     "name": "stdout",
     "output_type": "stream",
     "text": [
      "kırmızı\n",
      "['yeşil', 'mavi']\n"
     ]
    }
   ],
   "source": [
    "print(l[0])\n",
    "print(l[1:3])"
   ]
  },
  {
   "cell_type": "code",
   "execution_count": 26,
   "metadata": {},
   "outputs": [
    {
     "data": {
      "text/plain": [
       "4"
      ]
     },
     "execution_count": 26,
     "metadata": {},
     "output_type": "execute_result"
    }
   ],
   "source": [
    "len(l)"
   ]
  },
  {
   "cell_type": "code",
   "execution_count": 27,
   "metadata": {},
   "outputs": [
    {
     "name": "stdout",
     "output_type": "stream",
     "text": [
      "['mavi', 'sarı', 'siyah', 'mor']\n"
     ]
    }
   ],
   "source": [
    "l2=l\n",
    "bos_liste = []\n",
    "bos_liste = list()\n",
    "l3 = ['siyah', 'mor']\n",
    "print(l[2:] + l3)"
   ]
  },
  {
   "cell_type": "code",
   "execution_count": 28,
   "metadata": {},
   "outputs": [
    {
     "name": "stdout",
     "output_type": "stream",
     "text": [
      "kırmızı\n",
      "yeşil\n",
      "mavi\n"
     ]
    }
   ],
   "source": [
    "renkler = ['kırmızı', 'yeşil', 'mavi']\n",
    "for renk in renkler:\n",
    "    print(renk)"
   ]
  },
  {
   "cell_type": "code",
   "execution_count": 31,
   "metadata": {},
   "outputs": [
    {
     "name": "stdout",
     "output_type": "stream",
     "text": [
      "True\n",
      "False\n"
     ]
    }
   ],
   "source": [
    "print('yeşil' in renkler)\n",
    "print('sarı' in renkler)"
   ]
  },
  {
   "cell_type": "markdown",
   "metadata": {},
   "source": [
    "## Liste Fonksiyonları"
   ]
  },
  {
   "cell_type": "code",
   "execution_count": 32,
   "metadata": {},
   "outputs": [
    {
     "name": "stdout",
     "output_type": "stream",
     "text": [
      "['Ali', 'Ahmet', 'Mehmet', 'Burak']\n"
     ]
    }
   ],
   "source": [
    "liste = ['Ali', 'Ahmet', 'Mehmet']\n",
    "liste.append('Burak')\n",
    "print(liste)"
   ]
  },
  {
   "cell_type": "code",
   "execution_count": 33,
   "metadata": {},
   "outputs": [
    {
     "name": "stdout",
     "output_type": "stream",
     "text": [
      "['Hasan', 'Ali', 'Ahmet', 'Mehmet', 'Burak', 'Ayşe', 'Fatma']\n"
     ]
    }
   ],
   "source": [
    "liste.insert(0,'Hasan')\n",
    "liste.extend(['Ayşe', 'Fatma'])\n",
    "print(liste)"
   ]
  },
  {
   "cell_type": "code",
   "execution_count": 34,
   "metadata": {},
   "outputs": [
    {
     "name": "stdout",
     "output_type": "stream",
     "text": [
      "2\n"
     ]
    }
   ],
   "source": [
    "print(liste.index('Ahmet'))"
   ]
  },
  {
   "cell_type": "code",
   "execution_count": 35,
   "metadata": {},
   "outputs": [],
   "source": [
    "liste.remove('Burak')"
   ]
  },
  {
   "cell_type": "code",
   "execution_count": 36,
   "metadata": {},
   "outputs": [
    {
     "data": {
      "text/plain": [
       "'Ali'"
      ]
     },
     "execution_count": 36,
     "metadata": {},
     "output_type": "execute_result"
    }
   ],
   "source": [
    "liste.pop(1)"
   ]
  },
  {
   "cell_type": "code",
   "execution_count": 38,
   "metadata": {},
   "outputs": [
    {
     "name": "stdout",
     "output_type": "stream",
     "text": [
      "['Ahmet', 'Ayşe', 'Fatma', 'Hasan', 'Mehmet']\n"
     ]
    }
   ],
   "source": [
    "print(sorted(liste))"
   ]
  },
  {
   "cell_type": "code",
   "execution_count": 39,
   "metadata": {},
   "outputs": [
    {
     "name": "stdout",
     "output_type": "stream",
     "text": [
      "['Hasan', 'Ahmet', 'Mehmet', 'Ayşe', 'Fatma']\n"
     ]
    }
   ],
   "source": [
    "print(liste)"
   ]
  },
  {
   "cell_type": "code",
   "execution_count": 40,
   "metadata": {},
   "outputs": [],
   "source": [
    "liste.sort()"
   ]
  },
  {
   "cell_type": "markdown",
   "metadata": {},
   "source": [
    "# Çokuzlular(Tuple) ve Sözlükler(Dictionary)"
   ]
  },
  {
   "cell_type": "code",
   "execution_count": 41,
   "metadata": {},
   "outputs": [
    {
     "name": "stdout",
     "output_type": "stream",
     "text": [
      "1\n",
      "3.14\n",
      "merhaba\n"
     ]
    }
   ],
   "source": [
    "cu = (1, 3.14, 'merhaba')\n",
    "for el in cu:\n",
    "    print(el)"
   ]
  },
  {
   "cell_type": "code",
   "execution_count": 42,
   "metadata": {},
   "outputs": [
    {
     "name": "stdout",
     "output_type": "stream",
     "text": [
      "3.14\n"
     ]
    }
   ],
   "source": [
    "print(cu[1])"
   ]
  },
  {
   "cell_type": "code",
   "execution_count": 43,
   "metadata": {},
   "outputs": [
    {
     "ename": "TypeError",
     "evalue": "'tuple' object does not support item assignment",
     "output_type": "error",
     "traceback": [
      "\u001b[0;31m---------------------------------------------------------------------------\u001b[0m",
      "\u001b[0;31mTypeError\u001b[0m                                 Traceback (most recent call last)",
      "\u001b[0;32m<ipython-input-43-bdf96f68e014>\u001b[0m in \u001b[0;36m<module>\u001b[0;34m\u001b[0m\n\u001b[0;32m----> 1\u001b[0;31m \u001b[0mcu\u001b[0m\u001b[0;34m[\u001b[0m\u001b[0;36m2\u001b[0m\u001b[0;34m]\u001b[0m \u001b[0;34m=\u001b[0m \u001b[0;36m0\u001b[0m\u001b[0;34m\u001b[0m\u001b[0;34m\u001b[0m\u001b[0m\n\u001b[0m",
      "\u001b[0;31mTypeError\u001b[0m: 'tuple' object does not support item assignment"
     ]
    }
   ],
   "source": [
    "cu[2] = 0"
   ]
  },
  {
   "cell_type": "code",
   "execution_count": 44,
   "metadata": {},
   "outputs": [
    {
     "name": "stdout",
     "output_type": "stream",
     "text": [
      "{'a': 'alpha', 'b': 'beta', 'g': 'gamma'}\n"
     ]
    }
   ],
   "source": [
    "sozluk = {'a':'alpha', 'b':'beta', 'g': 'gamma'}\n",
    "print(sozluk)"
   ]
  },
  {
   "cell_type": "code",
   "execution_count": 45,
   "metadata": {},
   "outputs": [
    {
     "name": "stdout",
     "output_type": "stream",
     "text": [
      "{'a': 'alpha', 'b': 'beta', 'g': 'gamma'}\n"
     ]
    }
   ],
   "source": [
    "sozluk = dict()\n",
    "sozluk['a'] = 'alpha'\n",
    "sozluk['b'] = 'beta'\n",
    "sozluk['g'] = 'gamma'\n",
    "print(sozluk)"
   ]
  },
  {
   "cell_type": "code",
   "execution_count": 46,
   "metadata": {},
   "outputs": [
    {
     "name": "stdout",
     "output_type": "stream",
     "text": [
      "a:alpha\n",
      "b:beta\n",
      "g:gamma\n"
     ]
    }
   ],
   "source": [
    "for anahtar in sozluk:\n",
    "    print(anahtar + ':' + sozluk[anahtar])"
   ]
  },
  {
   "cell_type": "code",
   "execution_count": 47,
   "metadata": {},
   "outputs": [
    {
     "name": "stdout",
     "output_type": "stream",
     "text": [
      "a:alpha\n",
      "b:beta\n",
      "g:gamma\n"
     ]
    }
   ],
   "source": [
    "for anahtar, deger in sozluk.items():\n",
    "    print(f\"{anahtar}:{deger}\")"
   ]
  },
  {
   "cell_type": "code",
   "execution_count": 48,
   "metadata": {},
   "outputs": [],
   "source": [
    "del sozluk['a']"
   ]
  },
  {
   "cell_type": "code",
   "execution_count": 49,
   "metadata": {},
   "outputs": [
    {
     "name": "stdout",
     "output_type": "stream",
     "text": [
      "{'b': 'beta', 'g': 'gamma'}\n"
     ]
    }
   ],
   "source": [
    "print(sozluk)"
   ]
  },
  {
   "cell_type": "code",
   "execution_count": null,
   "metadata": {},
   "outputs": [],
   "source": []
  }
 ],
 "metadata": {
  "kernelspec": {
   "display_name": "Python 3",
   "language": "python",
   "name": "python3"
  },
  "language_info": {
   "codemirror_mode": {
    "name": "ipython",
    "version": 3
   },
   "file_extension": ".py",
   "mimetype": "text/x-python",
   "name": "python",
   "nbconvert_exporter": "python",
   "pygments_lexer": "ipython3",
   "version": "3.7.4"
  }
 },
 "nbformat": 4,
 "nbformat_minor": 4
}
